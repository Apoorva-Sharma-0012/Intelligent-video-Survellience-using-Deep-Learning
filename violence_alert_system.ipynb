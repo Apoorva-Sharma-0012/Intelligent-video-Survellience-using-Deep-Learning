{
  "cells": [
    {
      "cell_type": "markdown",
      "metadata": {
        "id": "view-in-github",
        "colab_type": "text"
      },
      "source": [
        "<a href=\"https://colab.research.google.com/github/Apoorva-Sharma-0012/Intelligent-video-Survellience-using-Deep-Learning/blob/main/violence_alert_system.ipynb\" target=\"_parent\"><img src=\"https://colab.research.google.com/assets/colab-badge.svg\" alt=\"Open In Colab\"/></a>"
      ]
    },
    {
      "cell_type": "code",
      "execution_count": null,
      "metadata": {
        "colab": {
          "base_uri": "https://localhost:8080/"
        },
        "id": "UAEEDxFmnyy8",
        "outputId": "6d475a15-1cdc-411a-b2ad-b18dc9b5b1f4"
      },
      "outputs": [
        {
          "name": "stdout",
          "output_type": "stream",
          "text": [
            "Looking in indexes: https://pypi.org/simple, https://us-python.pkg.dev/colab-wheels/public/simple/\n",
            "Collecting telepot\n",
            "  Downloading telepot-12.7.tar.gz (73 kB)\n",
            "\u001b[2K     \u001b[90m━━━━━━━━━━━━━━━━━━━━━━━━━━━━━━━━━━━━━━━━\u001b[0m \u001b[32m73.1/73.1 kB\u001b[0m \u001b[31m3.0 MB/s\u001b[0m eta \u001b[36m0:00:00\u001b[0m\n",
            "\u001b[?25h  Preparing metadata (setup.py) ... \u001b[?25l\u001b[?25hdone\n",
            "Requirement already satisfied: urllib3>=1.9.1 in /usr/local/lib/python3.10/dist-packages (from telepot) (1.26.15)\n",
            "Collecting aiohttp>=3.0.0 (from telepot)\n",
            "  Downloading aiohttp-3.8.4-cp310-cp310-manylinux_2_17_x86_64.manylinux2014_x86_64.whl (1.0 MB)\n",
            "\u001b[2K     \u001b[90m━━━━━━━━━━━━━━━━━━━━━━━━━━━━━━━━━━━━━━━━\u001b[0m \u001b[32m1.0/1.0 MB\u001b[0m \u001b[31m20.4 MB/s\u001b[0m eta \u001b[36m0:00:00\u001b[0m\n",
            "\u001b[?25hRequirement already satisfied: attrs>=17.3.0 in /usr/local/lib/python3.10/dist-packages (from aiohttp>=3.0.0->telepot) (23.1.0)\n",
            "Requirement already satisfied: charset-normalizer<4.0,>=2.0 in /usr/local/lib/python3.10/dist-packages (from aiohttp>=3.0.0->telepot) (2.0.12)\n",
            "Collecting multidict<7.0,>=4.5 (from aiohttp>=3.0.0->telepot)\n",
            "  Downloading multidict-6.0.4-cp310-cp310-manylinux_2_17_x86_64.manylinux2014_x86_64.whl (114 kB)\n",
            "\u001b[2K     \u001b[90m━━━━━━━━━━━━━━━━━━━━━━━━━━━━━━━━━━━━━━\u001b[0m \u001b[32m114.5/114.5 kB\u001b[0m \u001b[31m11.2 MB/s\u001b[0m eta \u001b[36m0:00:00\u001b[0m\n",
            "\u001b[?25hCollecting async-timeout<5.0,>=4.0.0a3 (from aiohttp>=3.0.0->telepot)\n",
            "  Downloading async_timeout-4.0.2-py3-none-any.whl (5.8 kB)\n",
            "Collecting yarl<2.0,>=1.0 (from aiohttp>=3.0.0->telepot)\n",
            "  Downloading yarl-1.9.2-cp310-cp310-manylinux_2_17_x86_64.manylinux2014_x86_64.whl (268 kB)\n",
            "\u001b[2K     \u001b[90m━━━━━━━━━━━━━━━━━━━━━━━━━━━━━━━━━━━━━━\u001b[0m \u001b[32m268.8/268.8 kB\u001b[0m \u001b[31m22.9 MB/s\u001b[0m eta \u001b[36m0:00:00\u001b[0m\n",
            "\u001b[?25hCollecting frozenlist>=1.1.1 (from aiohttp>=3.0.0->telepot)\n",
            "  Downloading frozenlist-1.3.3-cp310-cp310-manylinux_2_5_x86_64.manylinux1_x86_64.manylinux_2_17_x86_64.manylinux2014_x86_64.whl (149 kB)\n",
            "\u001b[2K     \u001b[90m━━━━━━━━━━━━━━━━━━━━━━━━━━━━━━━━━━━━━━\u001b[0m \u001b[32m149.6/149.6 kB\u001b[0m \u001b[31m16.3 MB/s\u001b[0m eta \u001b[36m0:00:00\u001b[0m\n",
            "\u001b[?25hCollecting aiosignal>=1.1.2 (from aiohttp>=3.0.0->telepot)\n",
            "  Downloading aiosignal-1.3.1-py3-none-any.whl (7.6 kB)\n",
            "Requirement already satisfied: idna>=2.0 in /usr/local/lib/python3.10/dist-packages (from yarl<2.0,>=1.0->aiohttp>=3.0.0->telepot) (3.4)\n",
            "Building wheels for collected packages: telepot\n",
            "  Building wheel for telepot (setup.py) ... \u001b[?25l\u001b[?25hdone\n",
            "  Created wheel for telepot: filename=telepot-12.7-py3-none-any.whl size=57944 sha256=a714fd898573e19eb789e1f0a7456900e5806e8d47abdf5debe0ff1b69d6684b\n",
            "  Stored in directory: /root/.cache/pip/wheels/9f/9a/92/2e34a093e40a09338847e54dc9fcaab4ce01a59ba17c784c6c\n",
            "Successfully built telepot\n",
            "Installing collected packages: multidict, frozenlist, async-timeout, yarl, aiosignal, aiohttp, telepot\n",
            "Successfully installed aiohttp-3.8.4 aiosignal-1.3.1 async-timeout-4.0.2 frozenlist-1.3.3 multidict-6.0.4 telepot-12.7 yarl-1.9.2\n"
          ]
        }
      ],
      "source": [
        "pip install telepot"
      ]
    },
    {
      "cell_type": "code",
      "execution_count": null,
      "metadata": {
        "colab": {
          "base_uri": "https://localhost:8080/"
        },
        "id": "bOVaKMVdvWPa",
        "outputId": "bdf4d592-6694-4efd-ff82-9983456724dd"
      },
      "outputs": [
        {
          "name": "stdout",
          "output_type": "stream",
          "text": [
            "Mounted at /content/drive\n"
          ]
        }
      ],
      "source": [
        "from google.colab import drive\n",
        "drive.mount('/content/drive')"
      ]
    },
    {
      "cell_type": "code",
      "execution_count": null,
      "metadata": {
        "id": "4-Hqlk02oqvx"
      },
      "outputs": [],
      "source": [
        "from keras.models import load_model\n",
        "from collections import deque\n",
        "import matplotlib.pyplot as plt\n",
        "import numpy as np\n",
        "import argparse\n",
        "import pickle\n",
        "import cv2\n",
        "import telepot\n",
        "from datetime import datetime\n",
        "import pytz"
      ]
    },
    {
      "cell_type": "code",
      "execution_count": null,
      "metadata": {
        "id": "lzC79FgbovPd"
      },
      "outputs": [],
      "source": [
        "def getTime():\n",
        "  IST = pytz.timezone('Asia/Kolkata')\n",
        "  timeNow = datetime.now(IST)\n",
        "  return timeNow"
      ]
    },
    {
      "cell_type": "code",
      "execution_count": null,
      "metadata": {
        "id": "4qhY-lgRo3ty"
      },
      "outputs": [],
      "source": [
        "import numpy as np\n",
        "import argparse\n",
        "import pickle\n",
        "import cv2\n",
        "from google.colab.patches import cv2_imshow\n",
        "import os\n",
        "import time\n",
        "from keras.models import load_model\n",
        "from collections import deque\n",
        "\n",
        "def print_results(video, limit=None):\n",
        "        trueCount = 0\n",
        "        imageSaved = 0\n",
        "        filename = 'savedImage.jpg'\n",
        "        finalImage = 'finaImage.jpg'\n",
        "        sendAlert = 0\n",
        "        location = \"Delhi\"\n",
        "\n",
        "        print(\"Loading model ...\")\n",
        "        model = load_model('/content/drive/MyDrive/modelnew.h5')\n",
        "        Q = deque(maxlen=128)\n",
        "        vs = cv2.VideoCapture(video)\n",
        "        writer = None\n",
        "        (W, H) = (None, None)\n",
        "        count = 0\n",
        "        while True:\n",
        "\n",
        "            (grabbed, frame) = vs.read()\n",
        "\n",
        "            if not grabbed:\n",
        "                break\n",
        "\n",
        "            if W is None or H is None:\n",
        "                (H, W) = frame.shape[:2]\n",
        "\n",
        "            output = frame.copy()\n",
        "\n",
        "            frame = cv2.cvtColor(frame, cv2.COLOR_BGR2RGB)\n",
        "            frame = cv2.resize(frame, (128, 128)).astype(\"float32\")\n",
        "            frame = frame.reshape(128, 128, 3) / 255\n",
        "\n",
        "            preds = model.predict(np.expand_dims(frame, axis=0))[0]\n",
        "            Q.append(preds)\n",
        "\n",
        "            results = np.array(Q).mean(axis=0)\n",
        "            i = (preds > 0.50)[0]\n",
        "            label = i\n",
        "\n",
        "            text_color = (0, 255, 0)\n",
        "\n",
        "            if label:\n",
        "                text_color = (0, 0, 255)\n",
        "                trueCount = trueCount + 1\n",
        "\n",
        "            else:\n",
        "                text_color = (0, 255, 0)\n",
        "\n",
        "            text = \"Violence: {}\".format(label)\n",
        "            FONT = cv2.FONT_HERSHEY_SIMPLEX\n",
        "\n",
        "            cv2.putText(output, text, (35, 50), FONT,1.25, text_color, 3)\n",
        "\n",
        "            if writer is None:\n",
        "                fourcc = cv2.VideoWriter_fourcc(*\"MJPG\")\n",
        "                writer = cv2.VideoWriter(\"recordedVideo.avi\", fourcc, 30,(W, H), True)\n",
        "\n",
        "            writer.write(output)\n",
        "\n",
        "            cv2_imshow(output)\n",
        "\n",
        "            if(trueCount == 50):\n",
        "              if(imageSaved == 0):\n",
        "                if(label):\n",
        "                  cv2.imwrite(filename, output)\n",
        "                  imageSaved = 1\n",
        "\n",
        "              if(sendAlert == 0):\n",
        "                timeMoment = getTime()\n",
        "                bot = telepot.Bot('6141364366:AAEueP8EDriLyXQNVmroX0iwoiC_tPiVTC8')\n",
        "                bot.sendMessage(-909837420, f\"VIOLENCE ALERT!! \\nLOCATION: {location} \\nTIME: {timeMoment}\")\n",
        "                bot.sendPhoto(-909837420, photo=open(filename, 'rb'))\n",
        "                sendAlert = 1\n",
        "\n",
        "            key = cv2.waitKey(1) & 0xFF\n",
        "\n",
        "            if key == ord(\"q\"):\n",
        "                break\n",
        "        print(\"[INFO] cleaning up...\")\n",
        "        writer.release()\n",
        "        vs.release()"
      ]
    },
    {
      "cell_type": "code",
      "execution_count": null,
      "metadata": {
        "id": "VrS0Azfro4ck"
      },
      "outputs": [],
      "source": [
        "V_path = \"/content/drive/MyDrive/Testing_videos/V_19.mp4\"\n",
        "NV_path = \"/content/drive/MyDrive/Testing_videos/nonv.mp4\""
      ]
    },
    {
      "cell_type": "code",
      "execution_count": null,
      "metadata": {
        "colab": {
          "background_save": true,
          "base_uri": "https://localhost:8080/",
          "height": 1000
        },
        "id": "C9G-8I_no6uA",
        "outputId": "70993f30-6089-4967-a787-11b1d2d37fcd"
      },
      "outputs": [],
      "source": [
        "print_results(V_path)"
      ]
    },
    {
      "cell_type": "code",
      "execution_count": null,
      "metadata": {
        "colab": {
          "background_save": true
        },
        "id": "etzc-YMjwLoT",
        "outputId": "38a03d45-bb72-49e0-8330-c4ceae0cb87c"
      },
      "outputs": [],
      "source": [
        "print_results(NV_path)"
      ]
    }
  ],
  "metadata": {
    "colab": {
      "provenance": [],
      "include_colab_link": true
    },
    "gpuClass": "standard",
    "kernelspec": {
      "display_name": "Python 3",
      "name": "python3"
    },
    "language_info": {
      "name": "python"
    }
  },
  "nbformat": 4,
  "nbformat_minor": 0
}